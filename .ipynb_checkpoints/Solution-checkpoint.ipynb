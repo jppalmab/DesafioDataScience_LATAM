{
 "cells": [
  {
   "cell_type": "markdown",
   "id": "2dfc3020",
   "metadata": {},
   "source": [
    "# Desafio Latam - Data Scientist"
   ]
  },
  {
   "cell_type": "markdown",
   "id": "a7c0e740",
   "metadata": {},
   "source": [
    "<div style=\"text-align: right\"> by Juan Pablo Palma B. </div>"
   ]
  },
  {
   "cell_type": "markdown",
   "id": "114b132e",
   "metadata": {},
   "source": [
    "## 1. Instrucciones"
   ]
  },
  {
   "cell_type": "markdown",
   "id": "e558350f",
   "metadata": {},
   "source": [
    "En Advanced Analytics valoramos muchísimo el trabajo en equipo y la constante interacción entre los distintos roles que trabajan en\n",
    "un producto basado en datos, como el Data Scientist, Machine Learning Engineering, Data Engineer, entre otros. Es por este motivo que una habilidad esencial que buscamos a la hora de buscar nuevos integrantes es el _manejo adecuado de git_. Este desafío deberá ser entregado en la plataforma de git que más te acomode y que sea pública para que la podamos revisar. Lo que buscamos con esto es poder entender de mejor manera el desarrollo que generaste con tu código, cómo lo fuiste mejorando en el tiempo y si tienes proyectos propios en este repositorio nos servirán para conocer mejor tu experiencia en base a tu propio portafolio.\n",
    "\n",
    "Instrucciones Git:\n",
    "1. Crear un repositorio en la plataforma de git que más te acomode y que sea pública.\n",
    "2. Haber trabajado con una rama principal y otra de desarrollo. Opcional, ocupar alguna práctica de desarrollo de GitFlow.\n",
    "\n",
    "Instrucciones del desafío:\n",
    "1. Debes enviar el link al repositorio al mail del que fuiste contactado con asunto Challenge Data Scientist - [Nombre][Apellido], ejemplo Challenge Data Scientist - Pedro Pica Piedra.\n",
    "2. Se aceptará los cambios en el repositorio hasta la fecha y hora que se indique en el mail.\n",
    "3. En la siguiente carpeta de Google Drive encontrarás las instrucciones del desafío y el archivo `dataset_SCL.csv` que utilizarás para desarrollarlo.\n",
    "4. El repositorio debe tener un jupyter notebook llamado solution.ipynb utilizando python 3. No serán revisados otros lenguajes como R o similar.\n",
    "5. En solution.ipynb deben estar resueltas las respuestas a todas las preguntas del desafío\n",
    "6. Dentro del repositorio deben estar todos los archivos necesarios para que los evaluadores puedan clonar y luego correr tu notebook sin problemas\n",
    "7. Una copia de tu CV (curriculum vitae) en formato .pdf en el repositorio"
   ]
  },
  {
   "cell_type": "markdown",
   "id": "ad40f747",
   "metadata": {},
   "source": [
    "## 2. Problema"
   ]
  },
  {
   "cell_type": "markdown",
   "id": "9d596c25",
   "metadata": {},
   "source": [
    "El problema consiste en **predecir la probabilidad de atraso de los vuelos que aterrizan o despegan del aeropuerto de Santiago de Chile (SCL)**. Para eso les entregamos un dataset usando datos públicos y reales donde cada fila corresponde a un vuelo que aterrizó o despegó de SCL. Para cada vuelo se cuenta con la siguiente información:\n",
    "\n",
    ">Fecha-I : Fecha y hora programada del vuelo.<br> \n",
    "Vlo-I : Número de vuelo programado. <br> \n",
    "Ori-I : Código de ciudad de origen programado. <br> \n",
    "Des-I : Código de ciudad de destino programado. <br> \n",
    "Emp-I : Código aerolínea de vuelo programado. <br> \n",
    "Fecha-O : Fecha y hora de operación del vuelo. <br> \n",
    "Vlo-O : Número de vuelo de operación del vuelo.<br> \n",
    "Ori-O : Código de ciudad de origen de operación.<br> \n",
    "Des-O : Código de ciudad de destino de operación.<br> \n",
    "Emp-O : Código aerolínea de vuelo operado.<br> \n",
    "DIA : Día del mes de operación del vuelo.<br> \n",
    "MES : Número de mes de operación del vuelo.<br> \n",
    "AÑO : Año de operación del vuelo.<br> \n",
    "DIANOM : Día de la semana de operación del vuelo.<br> \n",
    "TIPOVUELO : Tipo de vuelo, I =Internacional, N =Nacional.<br> \n",
    "OPERA : Nombre de aerolínea que opera.<br> \n",
    "SIGLAORI : Nombre ciudad origen.<br> \n",
    "SIGLADES : Nombre ciudad destino."
   ]
  },
  {
   "cell_type": "markdown",
   "id": "ca07f0d4",
   "metadata": {},
   "source": [
    "## Vista preliminar and check the dataset"
   ]
  },
  {
   "cell_type": "markdown",
   "id": "d5e46981",
   "metadata": {},
   "source": [
    "### Importar librerias"
   ]
  },
  {
   "cell_type": "code",
   "execution_count": 1,
   "id": "91850751",
   "metadata": {},
   "outputs": [],
   "source": [
    "import matplotlib.pyplot as plt\n",
    "import pandas as pd\n",
    "import numpy as np\n",
    "from sklearn import (\n",
    "    ensemble,\n",
    "    model_selection,    \n",
    "    preprocessing,\n",
    "    tree,\n",
    ")\n",
    "from sklearn.metrics import (\n",
    "    auc,\n",
    "    confusion_matrix,\n",
    "    roc_auc_score,\n",
    "    roc_curve,\n",
    ")\n",
    "from sklearn.model_selection import (\n",
    "    train_test_split,\n",
    "    StratifiedKFold,\n",
    ")\n",
    "from yellowbrick.classifier import (\n",
    "    ConfusionMatrix,\n",
    "    ROCAUC,\n",
    ")\n",
    "from yellowbrick.model_selection import (\n",
    "    LearningCurve,\n",
    ")"
   ]
  },
  {
   "cell_type": "markdown",
   "id": "9338f9b2",
   "metadata": {},
   "source": [
    "### Cargar la base de datos"
   ]
  },
  {
   "cell_type": "code",
   "execution_count": 2,
   "id": "6e038621",
   "metadata": {},
   "outputs": [
    {
     "name": "stderr",
     "output_type": "stream",
     "text": [
      "/var/folders/mw/k879zy5s2zqb1wgxjyzffkb00000gn/T/ipykernel_56444/172632035.py:5: DtypeWarning: Columns (1,6) have mixed types. Specify dtype option on import or set low_memory=False.\n",
      "  df = pd.read_csv(path)\n"
     ]
    }
   ],
   "source": [
    "path = (\n",
    "    \"dataset_SCL.csv\"\n",
    ")\n",
    "\n",
    "df = pd.read_csv(path)"
   ]
  },
  {
   "cell_type": "markdown",
   "id": "7c5cb80a",
   "metadata": {},
   "source": [
    "### Checkiar con inspeccion visual los datos tanto los primeros como los ultimos casos"
   ]
  },
  {
   "cell_type": "code",
   "execution_count": 3,
   "id": "8a285301",
   "metadata": {},
   "outputs": [
    {
     "data": {
      "text/plain": [
       "(68206, 18)"
      ]
     },
     "execution_count": 3,
     "metadata": {},
     "output_type": "execute_result"
    }
   ],
   "source": [
    "df.shape"
   ]
  },
  {
   "cell_type": "code",
   "execution_count": 4,
   "id": "fa6c8284",
   "metadata": {},
   "outputs": [
    {
     "data": {
      "text/html": [
       "<div>\n",
       "<style scoped>\n",
       "    .dataframe tbody tr th:only-of-type {\n",
       "        vertical-align: middle;\n",
       "    }\n",
       "\n",
       "    .dataframe tbody tr th {\n",
       "        vertical-align: top;\n",
       "    }\n",
       "\n",
       "    .dataframe thead th {\n",
       "        text-align: right;\n",
       "    }\n",
       "</style>\n",
       "<table border=\"1\" class=\"dataframe\">\n",
       "  <thead>\n",
       "    <tr style=\"text-align: right;\">\n",
       "      <th></th>\n",
       "      <th>Fecha-I</th>\n",
       "      <th>Vlo-I</th>\n",
       "      <th>Ori-I</th>\n",
       "      <th>Des-I</th>\n",
       "      <th>Emp-I</th>\n",
       "      <th>Fecha-O</th>\n",
       "      <th>Vlo-O</th>\n",
       "      <th>Ori-O</th>\n",
       "      <th>Des-O</th>\n",
       "      <th>Emp-O</th>\n",
       "      <th>DIA</th>\n",
       "      <th>MES</th>\n",
       "      <th>AÑO</th>\n",
       "      <th>DIANOM</th>\n",
       "      <th>TIPOVUELO</th>\n",
       "      <th>OPERA</th>\n",
       "      <th>SIGLAORI</th>\n",
       "      <th>SIGLADES</th>\n",
       "    </tr>\n",
       "  </thead>\n",
       "  <tbody>\n",
       "    <tr>\n",
       "      <th>0</th>\n",
       "      <td>2017-01-01 23:30:00</td>\n",
       "      <td>226</td>\n",
       "      <td>SCEL</td>\n",
       "      <td>KMIA</td>\n",
       "      <td>AAL</td>\n",
       "      <td>2017-01-01 23:33:00</td>\n",
       "      <td>226</td>\n",
       "      <td>SCEL</td>\n",
       "      <td>KMIA</td>\n",
       "      <td>AAL</td>\n",
       "      <td>1</td>\n",
       "      <td>1</td>\n",
       "      <td>2017</td>\n",
       "      <td>Domingo</td>\n",
       "      <td>I</td>\n",
       "      <td>American Airlines</td>\n",
       "      <td>Santiago</td>\n",
       "      <td>Miami</td>\n",
       "    </tr>\n",
       "    <tr>\n",
       "      <th>1</th>\n",
       "      <td>2017-01-02 23:30:00</td>\n",
       "      <td>226</td>\n",
       "      <td>SCEL</td>\n",
       "      <td>KMIA</td>\n",
       "      <td>AAL</td>\n",
       "      <td>2017-01-02 23:39:00</td>\n",
       "      <td>226</td>\n",
       "      <td>SCEL</td>\n",
       "      <td>KMIA</td>\n",
       "      <td>AAL</td>\n",
       "      <td>2</td>\n",
       "      <td>1</td>\n",
       "      <td>2017</td>\n",
       "      <td>Lunes</td>\n",
       "      <td>I</td>\n",
       "      <td>American Airlines</td>\n",
       "      <td>Santiago</td>\n",
       "      <td>Miami</td>\n",
       "    </tr>\n",
       "    <tr>\n",
       "      <th>2</th>\n",
       "      <td>2017-01-03 23:30:00</td>\n",
       "      <td>226</td>\n",
       "      <td>SCEL</td>\n",
       "      <td>KMIA</td>\n",
       "      <td>AAL</td>\n",
       "      <td>2017-01-03 23:39:00</td>\n",
       "      <td>226</td>\n",
       "      <td>SCEL</td>\n",
       "      <td>KMIA</td>\n",
       "      <td>AAL</td>\n",
       "      <td>3</td>\n",
       "      <td>1</td>\n",
       "      <td>2017</td>\n",
       "      <td>Martes</td>\n",
       "      <td>I</td>\n",
       "      <td>American Airlines</td>\n",
       "      <td>Santiago</td>\n",
       "      <td>Miami</td>\n",
       "    </tr>\n",
       "    <tr>\n",
       "      <th>3</th>\n",
       "      <td>2017-01-04 23:30:00</td>\n",
       "      <td>226</td>\n",
       "      <td>SCEL</td>\n",
       "      <td>KMIA</td>\n",
       "      <td>AAL</td>\n",
       "      <td>2017-01-04 23:33:00</td>\n",
       "      <td>226</td>\n",
       "      <td>SCEL</td>\n",
       "      <td>KMIA</td>\n",
       "      <td>AAL</td>\n",
       "      <td>4</td>\n",
       "      <td>1</td>\n",
       "      <td>2017</td>\n",
       "      <td>Miercoles</td>\n",
       "      <td>I</td>\n",
       "      <td>American Airlines</td>\n",
       "      <td>Santiago</td>\n",
       "      <td>Miami</td>\n",
       "    </tr>\n",
       "    <tr>\n",
       "      <th>4</th>\n",
       "      <td>2017-01-05 23:30:00</td>\n",
       "      <td>226</td>\n",
       "      <td>SCEL</td>\n",
       "      <td>KMIA</td>\n",
       "      <td>AAL</td>\n",
       "      <td>2017-01-05 23:28:00</td>\n",
       "      <td>226</td>\n",
       "      <td>SCEL</td>\n",
       "      <td>KMIA</td>\n",
       "      <td>AAL</td>\n",
       "      <td>5</td>\n",
       "      <td>1</td>\n",
       "      <td>2017</td>\n",
       "      <td>Jueves</td>\n",
       "      <td>I</td>\n",
       "      <td>American Airlines</td>\n",
       "      <td>Santiago</td>\n",
       "      <td>Miami</td>\n",
       "    </tr>\n",
       "  </tbody>\n",
       "</table>\n",
       "</div>"
      ],
      "text/plain": [
       "               Fecha-I Vlo-I Ori-I Des-I Emp-I              Fecha-O Vlo-O  \\\n",
       "0  2017-01-01 23:30:00   226  SCEL  KMIA   AAL  2017-01-01 23:33:00   226   \n",
       "1  2017-01-02 23:30:00   226  SCEL  KMIA   AAL  2017-01-02 23:39:00   226   \n",
       "2  2017-01-03 23:30:00   226  SCEL  KMIA   AAL  2017-01-03 23:39:00   226   \n",
       "3  2017-01-04 23:30:00   226  SCEL  KMIA   AAL  2017-01-04 23:33:00   226   \n",
       "4  2017-01-05 23:30:00   226  SCEL  KMIA   AAL  2017-01-05 23:28:00   226   \n",
       "\n",
       "  Ori-O Des-O Emp-O  DIA  MES   AÑO     DIANOM TIPOVUELO              OPERA  \\\n",
       "0  SCEL  KMIA   AAL    1    1  2017    Domingo         I  American Airlines   \n",
       "1  SCEL  KMIA   AAL    2    1  2017      Lunes         I  American Airlines   \n",
       "2  SCEL  KMIA   AAL    3    1  2017     Martes         I  American Airlines   \n",
       "3  SCEL  KMIA   AAL    4    1  2017  Miercoles         I  American Airlines   \n",
       "4  SCEL  KMIA   AAL    5    1  2017     Jueves         I  American Airlines   \n",
       "\n",
       "   SIGLAORI SIGLADES  \n",
       "0  Santiago    Miami  \n",
       "1  Santiago    Miami  \n",
       "2  Santiago    Miami  \n",
       "3  Santiago    Miami  \n",
       "4  Santiago    Miami  "
      ]
     },
     "execution_count": 4,
     "metadata": {},
     "output_type": "execute_result"
    }
   ],
   "source": [
    "df.head(5)"
   ]
  },
  {
   "cell_type": "code",
   "execution_count": 5,
   "id": "deb21b02",
   "metadata": {},
   "outputs": [
    {
     "data": {
      "text/html": [
       "<div>\n",
       "<style scoped>\n",
       "    .dataframe tbody tr th:only-of-type {\n",
       "        vertical-align: middle;\n",
       "    }\n",
       "\n",
       "    .dataframe tbody tr th {\n",
       "        vertical-align: top;\n",
       "    }\n",
       "\n",
       "    .dataframe thead th {\n",
       "        text-align: right;\n",
       "    }\n",
       "</style>\n",
       "<table border=\"1\" class=\"dataframe\">\n",
       "  <thead>\n",
       "    <tr style=\"text-align: right;\">\n",
       "      <th></th>\n",
       "      <th>Fecha-I</th>\n",
       "      <th>Vlo-I</th>\n",
       "      <th>Ori-I</th>\n",
       "      <th>Des-I</th>\n",
       "      <th>Emp-I</th>\n",
       "      <th>Fecha-O</th>\n",
       "      <th>Vlo-O</th>\n",
       "      <th>Ori-O</th>\n",
       "      <th>Des-O</th>\n",
       "      <th>Emp-O</th>\n",
       "      <th>DIA</th>\n",
       "      <th>MES</th>\n",
       "      <th>AÑO</th>\n",
       "      <th>DIANOM</th>\n",
       "      <th>TIPOVUELO</th>\n",
       "      <th>OPERA</th>\n",
       "      <th>SIGLAORI</th>\n",
       "      <th>SIGLADES</th>\n",
       "    </tr>\n",
       "  </thead>\n",
       "  <tbody>\n",
       "    <tr>\n",
       "      <th>68201</th>\n",
       "      <td>2017-12-22 14:55:00</td>\n",
       "      <td>400</td>\n",
       "      <td>SCEL</td>\n",
       "      <td>SPJC</td>\n",
       "      <td>JAT</td>\n",
       "      <td>2017-12-22 15:41:00</td>\n",
       "      <td>400.0</td>\n",
       "      <td>SCEL</td>\n",
       "      <td>SPJC</td>\n",
       "      <td>JAT</td>\n",
       "      <td>22</td>\n",
       "      <td>12</td>\n",
       "      <td>2017</td>\n",
       "      <td>Viernes</td>\n",
       "      <td>I</td>\n",
       "      <td>JetSmart SPA</td>\n",
       "      <td>Santiago</td>\n",
       "      <td>Lima</td>\n",
       "    </tr>\n",
       "    <tr>\n",
       "      <th>68202</th>\n",
       "      <td>2017-12-25 14:55:00</td>\n",
       "      <td>400</td>\n",
       "      <td>SCEL</td>\n",
       "      <td>SPJC</td>\n",
       "      <td>JAT</td>\n",
       "      <td>2017-12-25 15:11:00</td>\n",
       "      <td>400.0</td>\n",
       "      <td>SCEL</td>\n",
       "      <td>SPJC</td>\n",
       "      <td>JAT</td>\n",
       "      <td>25</td>\n",
       "      <td>12</td>\n",
       "      <td>2017</td>\n",
       "      <td>Lunes</td>\n",
       "      <td>I</td>\n",
       "      <td>JetSmart SPA</td>\n",
       "      <td>Santiago</td>\n",
       "      <td>Lima</td>\n",
       "    </tr>\n",
       "    <tr>\n",
       "      <th>68203</th>\n",
       "      <td>2017-12-27 14:55:00</td>\n",
       "      <td>400</td>\n",
       "      <td>SCEL</td>\n",
       "      <td>SPJC</td>\n",
       "      <td>JAT</td>\n",
       "      <td>2017-12-27 15:35:00</td>\n",
       "      <td>400.0</td>\n",
       "      <td>SCEL</td>\n",
       "      <td>SPJC</td>\n",
       "      <td>JAT</td>\n",
       "      <td>27</td>\n",
       "      <td>12</td>\n",
       "      <td>2017</td>\n",
       "      <td>Miercoles</td>\n",
       "      <td>I</td>\n",
       "      <td>JetSmart SPA</td>\n",
       "      <td>Santiago</td>\n",
       "      <td>Lima</td>\n",
       "    </tr>\n",
       "    <tr>\n",
       "      <th>68204</th>\n",
       "      <td>2017-12-29 14:55:00</td>\n",
       "      <td>400</td>\n",
       "      <td>SCEL</td>\n",
       "      <td>SPJC</td>\n",
       "      <td>JAT</td>\n",
       "      <td>2017-12-29 15:08:00</td>\n",
       "      <td>400.0</td>\n",
       "      <td>SCEL</td>\n",
       "      <td>SPJC</td>\n",
       "      <td>JAT</td>\n",
       "      <td>29</td>\n",
       "      <td>12</td>\n",
       "      <td>2017</td>\n",
       "      <td>Viernes</td>\n",
       "      <td>I</td>\n",
       "      <td>JetSmart SPA</td>\n",
       "      <td>Santiago</td>\n",
       "      <td>Lima</td>\n",
       "    </tr>\n",
       "    <tr>\n",
       "      <th>68205</th>\n",
       "      <td>2017-12-31 14:55:00</td>\n",
       "      <td>400</td>\n",
       "      <td>SCEL</td>\n",
       "      <td>SPJC</td>\n",
       "      <td>JAT</td>\n",
       "      <td>2017-12-31 15:04:00</td>\n",
       "      <td>400.0</td>\n",
       "      <td>SCEL</td>\n",
       "      <td>SPJC</td>\n",
       "      <td>JAT</td>\n",
       "      <td>31</td>\n",
       "      <td>12</td>\n",
       "      <td>2017</td>\n",
       "      <td>Domingo</td>\n",
       "      <td>I</td>\n",
       "      <td>JetSmart SPA</td>\n",
       "      <td>Santiago</td>\n",
       "      <td>Lima</td>\n",
       "    </tr>\n",
       "  </tbody>\n",
       "</table>\n",
       "</div>"
      ],
      "text/plain": [
       "                   Fecha-I Vlo-I Ori-I Des-I Emp-I              Fecha-O  \\\n",
       "68201  2017-12-22 14:55:00   400  SCEL  SPJC   JAT  2017-12-22 15:41:00   \n",
       "68202  2017-12-25 14:55:00   400  SCEL  SPJC   JAT  2017-12-25 15:11:00   \n",
       "68203  2017-12-27 14:55:00   400  SCEL  SPJC   JAT  2017-12-27 15:35:00   \n",
       "68204  2017-12-29 14:55:00   400  SCEL  SPJC   JAT  2017-12-29 15:08:00   \n",
       "68205  2017-12-31 14:55:00   400  SCEL  SPJC   JAT  2017-12-31 15:04:00   \n",
       "\n",
       "       Vlo-O Ori-O Des-O Emp-O  DIA  MES   AÑO     DIANOM TIPOVUELO  \\\n",
       "68201  400.0  SCEL  SPJC   JAT   22   12  2017    Viernes         I   \n",
       "68202  400.0  SCEL  SPJC   JAT   25   12  2017      Lunes         I   \n",
       "68203  400.0  SCEL  SPJC   JAT   27   12  2017  Miercoles         I   \n",
       "68204  400.0  SCEL  SPJC   JAT   29   12  2017    Viernes         I   \n",
       "68205  400.0  SCEL  SPJC   JAT   31   12  2017    Domingo         I   \n",
       "\n",
       "              OPERA  SIGLAORI SIGLADES  \n",
       "68201  JetSmart SPA  Santiago     Lima  \n",
       "68202  JetSmart SPA  Santiago     Lima  \n",
       "68203  JetSmart SPA  Santiago     Lima  \n",
       "68204  JetSmart SPA  Santiago     Lima  \n",
       "68205  JetSmart SPA  Santiago     Lima  "
      ]
     },
     "execution_count": 5,
     "metadata": {},
     "output_type": "execute_result"
    }
   ],
   "source": [
    "df.tail(5)"
   ]
  },
  {
   "cell_type": "markdown",
   "id": "853ec4a9",
   "metadata": {},
   "source": [
    "### Inspeccion preliminar"
   ]
  },
  {
   "cell_type": "code",
   "execution_count": 6,
   "id": "412da3a2",
   "metadata": {},
   "outputs": [],
   "source": [
    "df.columns=[col.replace('-','_') for col in df.columns] #fix names of columns for easy calling"
   ]
  },
  {
   "cell_type": "markdown",
   "id": "34d6e0d3",
   "metadata": {},
   "source": [
    "#### check if the dataset is only 2017"
   ]
  },
  {
   "cell_type": "code",
   "execution_count": 7,
   "id": "eb7fea00",
   "metadata": {},
   "outputs": [
    {
     "data": {
      "text/html": [
       "<div>\n",
       "<style scoped>\n",
       "    .dataframe tbody tr th:only-of-type {\n",
       "        vertical-align: middle;\n",
       "    }\n",
       "\n",
       "    .dataframe tbody tr th {\n",
       "        vertical-align: top;\n",
       "    }\n",
       "\n",
       "    .dataframe thead th {\n",
       "        text-align: right;\n",
       "    }\n",
       "</style>\n",
       "<table border=\"1\" class=\"dataframe\">\n",
       "  <thead>\n",
       "    <tr style=\"text-align: right;\">\n",
       "      <th></th>\n",
       "      <th>Fecha_I</th>\n",
       "      <th>Vlo_I</th>\n",
       "      <th>Ori_I</th>\n",
       "      <th>Des_I</th>\n",
       "      <th>Emp_I</th>\n",
       "      <th>Fecha_O</th>\n",
       "      <th>Vlo_O</th>\n",
       "      <th>Ori_O</th>\n",
       "      <th>Des_O</th>\n",
       "      <th>Emp_O</th>\n",
       "      <th>DIA</th>\n",
       "      <th>MES</th>\n",
       "      <th>AÑO</th>\n",
       "      <th>DIANOM</th>\n",
       "      <th>TIPOVUELO</th>\n",
       "      <th>OPERA</th>\n",
       "      <th>SIGLAORI</th>\n",
       "      <th>SIGLADES</th>\n",
       "    </tr>\n",
       "  </thead>\n",
       "  <tbody>\n",
       "    <tr>\n",
       "      <th>66918</th>\n",
       "      <td>2017-12-31 23:55:00</td>\n",
       "      <td>602</td>\n",
       "      <td>SCEL</td>\n",
       "      <td>KLAX</td>\n",
       "      <td>LAN</td>\n",
       "      <td>2018-01-01 00:02:00</td>\n",
       "      <td>602.0</td>\n",
       "      <td>SCEL</td>\n",
       "      <td>KLAX</td>\n",
       "      <td>LAN</td>\n",
       "      <td>1</td>\n",
       "      <td>1</td>\n",
       "      <td>2018</td>\n",
       "      <td>Lunes</td>\n",
       "      <td>I</td>\n",
       "      <td>Grupo LATAM</td>\n",
       "      <td>Santiago</td>\n",
       "      <td>Los Angeles</td>\n",
       "    </tr>\n",
       "    <tr>\n",
       "      <th>66947</th>\n",
       "      <td>2017-12-31 23:40:00</td>\n",
       "      <td>622</td>\n",
       "      <td>SCEL</td>\n",
       "      <td>MMMX</td>\n",
       "      <td>LAN</td>\n",
       "      <td>2018-01-01 00:12:00</td>\n",
       "      <td>622.0</td>\n",
       "      <td>SCEL</td>\n",
       "      <td>MMMX</td>\n",
       "      <td>LAN</td>\n",
       "      <td>1</td>\n",
       "      <td>1</td>\n",
       "      <td>2018</td>\n",
       "      <td>Lunes</td>\n",
       "      <td>I</td>\n",
       "      <td>Grupo LATAM</td>\n",
       "      <td>Santiago</td>\n",
       "      <td>Ciudad de Mexico</td>\n",
       "    </tr>\n",
       "  </tbody>\n",
       "</table>\n",
       "</div>"
      ],
      "text/plain": [
       "                   Fecha_I Vlo_I Ori_I Des_I Emp_I              Fecha_O  \\\n",
       "66918  2017-12-31 23:55:00   602  SCEL  KLAX   LAN  2018-01-01 00:02:00   \n",
       "66947  2017-12-31 23:40:00   622  SCEL  MMMX   LAN  2018-01-01 00:12:00   \n",
       "\n",
       "       Vlo_O Ori_O Des_O Emp_O  DIA  MES   AÑO DIANOM TIPOVUELO        OPERA  \\\n",
       "66918  602.0  SCEL  KLAX   LAN    1    1  2018  Lunes         I  Grupo LATAM   \n",
       "66947  622.0  SCEL  MMMX   LAN    1    1  2018  Lunes         I  Grupo LATAM   \n",
       "\n",
       "       SIGLAORI          SIGLADES  \n",
       "66918  Santiago       Los Angeles  \n",
       "66947  Santiago  Ciudad de Mexico  "
      ]
     },
     "execution_count": 7,
     "metadata": {},
     "output_type": "execute_result"
    }
   ],
   "source": [
    "#df.query('AÑO==2017')\n",
    "df.query('AÑO!=2017') # note that most of the cases are in 2017 and only two of them in 2018"
   ]
  },
  {
   "cell_type": "code",
   "execution_count": 8,
   "id": "2e3f5e60",
   "metadata": {
    "scrolled": true
   },
   "outputs": [
    {
     "data": {
      "text/plain": [
       "Fecha_I      object\n",
       "Vlo_I        object\n",
       "Ori_I        object\n",
       "Des_I        object\n",
       "Emp_I        object\n",
       "Fecha_O      object\n",
       "Vlo_O        object\n",
       "Ori_O        object\n",
       "Des_O        object\n",
       "Emp_O        object\n",
       "DIA           int64\n",
       "MES           int64\n",
       "AÑO           int64\n",
       "DIANOM       object\n",
       "TIPOVUELO    object\n",
       "OPERA        object\n",
       "SIGLAORI     object\n",
       "SIGLADES     object\n",
       "dtype: object"
      ]
     },
     "execution_count": 8,
     "metadata": {},
     "output_type": "execute_result"
    }
   ],
   "source": [
    "df.dtypes # we will try to fix the correct type for each variable respecting their characteristics"
   ]
  },
  {
   "cell_type": "markdown",
   "id": "537dd432",
   "metadata": {},
   "source": [
    "### Corregir el tipo de variable"
   ]
  },
  {
   "cell_type": "markdown",
   "id": "03b8e91a",
   "metadata": {},
   "source": [
    ">Fecha-I : Fecha y hora programada del vuelo. --> **Date**<br> \n",
    "Vlo-I : Número de vuelo programado. --> **Numeric**<br> \n",
    "Ori-I : Código de ciudad de origen programado. --> **String**<br> \n",
    "Des-I : Código de ciudad de destino programado. --> **String**<br> \n",
    "Emp-I : Código aerolínea de vuelo programado. --> **String**<br> \n",
    "Fecha-O : Fecha y hora de operación del vuelo. --> **Date**<br> \n",
    "Vlo-O : Número de vuelo de operación del vuelo. --> **Numeric**<br> \n",
    "Ori-O : Código de ciudad de origen de operación. --> **String**<br> \n",
    "Des-O : Código de ciudad de destino de operación. --> **String**<br> \n",
    "Emp-O : Código aerolínea de vuelo operado. --> **String**<br> \n",
    "DIA : Día del mes de operación del vuelo. --> **Numeric**<br> \n",
    "MES : Número de mes de operación del vuelo. --> **Integer**<br> \n",
    "AÑO : Año de operación del vuelo. --> **Numeric**<br> \n",
    "DIANOM : Día de la semana de operación del vuelo. --> **String**<br> \n",
    "TIPOVUELO : Tipo de vuelo, I =Internacional, N =Nacional. --> **String**<br> \n",
    "OPERA : Nombre de aerolínea que opera. --> **String**<br> \n",
    "SIGLAORI : Nombre ciudad origen. --> **String**<br> \n",
    "SIGLADES : Nombre ciudad destino. --> **String**"
   ]
  },
  {
   "cell_type": "markdown",
   "id": "8d19a64d",
   "metadata": {},
   "source": [
    "#### Date variables"
   ]
  },
  {
   "cell_type": "code",
   "execution_count": 9,
   "id": "e0706cc2",
   "metadata": {},
   "outputs": [],
   "source": [
    "date = ['Fecha_I', 'Fecha_O']\n",
    "df[date]=  df[date].apply(pd.to_datetime)"
   ]
  },
  {
   "cell_type": "markdown",
   "id": "27293219",
   "metadata": {},
   "source": [
    "#### Numeric variables"
   ]
  },
  {
   "cell_type": "code",
   "execution_count": 10,
   "id": "71aa5aa9",
   "metadata": {},
   "outputs": [],
   "source": [
    "enteros = ['Vlo_I', 'Vlo_O', 'DIA', 'MES', 'AÑO']\n",
    "\n",
    "for col in  df[enteros]:\n",
    "    df[col] = pd.to_numeric(df[col],errors='coerce')\n"
   ]
  },
  {
   "cell_type": "code",
   "execution_count": 11,
   "id": "70def196",
   "metadata": {},
   "outputs": [
    {
     "data": {
      "text/plain": [
       "Fecha_I      datetime64[ns]\n",
       "Vlo_I               float64\n",
       "Ori_I                object\n",
       "Des_I                object\n",
       "Emp_I                object\n",
       "Fecha_O      datetime64[ns]\n",
       "Vlo_O               float64\n",
       "Ori_O                object\n",
       "Des_O                object\n",
       "Emp_O                object\n",
       "DIA                   int64\n",
       "MES                   int64\n",
       "AÑO                   int64\n",
       "DIANOM               object\n",
       "TIPOVUELO            object\n",
       "OPERA                object\n",
       "SIGLAORI             object\n",
       "SIGLADES             object\n",
       "dtype: object"
      ]
     },
     "execution_count": 11,
     "metadata": {},
     "output_type": "execute_result"
    }
   ],
   "source": [
    "df.dtypes #corregido"
   ]
  },
  {
   "cell_type": "code",
   "execution_count": 12,
   "id": "f315b621",
   "metadata": {},
   "outputs": [
    {
     "data": {
      "text/html": [
       "<div>\n",
       "<style scoped>\n",
       "    .dataframe tbody tr th:only-of-type {\n",
       "        vertical-align: middle;\n",
       "    }\n",
       "\n",
       "    .dataframe tbody tr th {\n",
       "        vertical-align: top;\n",
       "    }\n",
       "\n",
       "    .dataframe thead th {\n",
       "        text-align: right;\n",
       "    }\n",
       "</style>\n",
       "<table border=\"1\" class=\"dataframe\">\n",
       "  <thead>\n",
       "    <tr style=\"text-align: right;\">\n",
       "      <th></th>\n",
       "      <th>Vlo_I</th>\n",
       "      <th>Vlo_O</th>\n",
       "      <th>DIA</th>\n",
       "      <th>MES</th>\n",
       "      <th>AÑO</th>\n",
       "    </tr>\n",
       "  </thead>\n",
       "  <tbody>\n",
       "    <tr>\n",
       "      <th>0</th>\n",
       "      <td>226.0</td>\n",
       "      <td>226.0</td>\n",
       "      <td>1</td>\n",
       "      <td>1</td>\n",
       "      <td>2017</td>\n",
       "    </tr>\n",
       "    <tr>\n",
       "      <th>1</th>\n",
       "      <td>226.0</td>\n",
       "      <td>226.0</td>\n",
       "      <td>2</td>\n",
       "      <td>1</td>\n",
       "      <td>2017</td>\n",
       "    </tr>\n",
       "    <tr>\n",
       "      <th>2</th>\n",
       "      <td>226.0</td>\n",
       "      <td>226.0</td>\n",
       "      <td>3</td>\n",
       "      <td>1</td>\n",
       "      <td>2017</td>\n",
       "    </tr>\n",
       "    <tr>\n",
       "      <th>3</th>\n",
       "      <td>226.0</td>\n",
       "      <td>226.0</td>\n",
       "      <td>4</td>\n",
       "      <td>1</td>\n",
       "      <td>2017</td>\n",
       "    </tr>\n",
       "    <tr>\n",
       "      <th>4</th>\n",
       "      <td>226.0</td>\n",
       "      <td>226.0</td>\n",
       "      <td>5</td>\n",
       "      <td>1</td>\n",
       "      <td>2017</td>\n",
       "    </tr>\n",
       "    <tr>\n",
       "      <th>...</th>\n",
       "      <td>...</td>\n",
       "      <td>...</td>\n",
       "      <td>...</td>\n",
       "      <td>...</td>\n",
       "      <td>...</td>\n",
       "    </tr>\n",
       "    <tr>\n",
       "      <th>68201</th>\n",
       "      <td>400.0</td>\n",
       "      <td>400.0</td>\n",
       "      <td>22</td>\n",
       "      <td>12</td>\n",
       "      <td>2017</td>\n",
       "    </tr>\n",
       "    <tr>\n",
       "      <th>68202</th>\n",
       "      <td>400.0</td>\n",
       "      <td>400.0</td>\n",
       "      <td>25</td>\n",
       "      <td>12</td>\n",
       "      <td>2017</td>\n",
       "    </tr>\n",
       "    <tr>\n",
       "      <th>68203</th>\n",
       "      <td>400.0</td>\n",
       "      <td>400.0</td>\n",
       "      <td>27</td>\n",
       "      <td>12</td>\n",
       "      <td>2017</td>\n",
       "    </tr>\n",
       "    <tr>\n",
       "      <th>68204</th>\n",
       "      <td>400.0</td>\n",
       "      <td>400.0</td>\n",
       "      <td>29</td>\n",
       "      <td>12</td>\n",
       "      <td>2017</td>\n",
       "    </tr>\n",
       "    <tr>\n",
       "      <th>68205</th>\n",
       "      <td>400.0</td>\n",
       "      <td>400.0</td>\n",
       "      <td>31</td>\n",
       "      <td>12</td>\n",
       "      <td>2017</td>\n",
       "    </tr>\n",
       "  </tbody>\n",
       "</table>\n",
       "<p>68206 rows × 5 columns</p>\n",
       "</div>"
      ],
      "text/plain": [
       "       Vlo_I  Vlo_O  DIA  MES   AÑO\n",
       "0      226.0  226.0    1    1  2017\n",
       "1      226.0  226.0    2    1  2017\n",
       "2      226.0  226.0    3    1  2017\n",
       "3      226.0  226.0    4    1  2017\n",
       "4      226.0  226.0    5    1  2017\n",
       "...      ...    ...  ...  ...   ...\n",
       "68201  400.0  400.0   22   12  2017\n",
       "68202  400.0  400.0   25   12  2017\n",
       "68203  400.0  400.0   27   12  2017\n",
       "68204  400.0  400.0   29   12  2017\n",
       "68205  400.0  400.0   31   12  2017\n",
       "\n",
       "[68206 rows x 5 columns]"
      ]
     },
     "execution_count": 12,
     "metadata": {},
     "output_type": "execute_result"
    }
   ],
   "source": [
    "df.select_dtypes(include='number')"
   ]
  },
  {
   "cell_type": "code",
   "execution_count": 13,
   "id": "7eb83830",
   "metadata": {},
   "outputs": [
    {
     "data": {
      "text/html": [
       "<div>\n",
       "<style scoped>\n",
       "    .dataframe tbody tr th:only-of-type {\n",
       "        vertical-align: middle;\n",
       "    }\n",
       "\n",
       "    .dataframe tbody tr th {\n",
       "        vertical-align: top;\n",
       "    }\n",
       "\n",
       "    .dataframe thead th {\n",
       "        text-align: right;\n",
       "    }\n",
       "</style>\n",
       "<table border=\"1\" class=\"dataframe\">\n",
       "  <thead>\n",
       "    <tr style=\"text-align: right;\">\n",
       "      <th></th>\n",
       "      <th>Ori_I</th>\n",
       "      <th>Des_I</th>\n",
       "      <th>Emp_I</th>\n",
       "      <th>Ori_O</th>\n",
       "      <th>Des_O</th>\n",
       "      <th>Emp_O</th>\n",
       "      <th>DIANOM</th>\n",
       "      <th>TIPOVUELO</th>\n",
       "      <th>OPERA</th>\n",
       "      <th>SIGLAORI</th>\n",
       "      <th>SIGLADES</th>\n",
       "    </tr>\n",
       "  </thead>\n",
       "  <tbody>\n",
       "    <tr>\n",
       "      <th>0</th>\n",
       "      <td>SCEL</td>\n",
       "      <td>KMIA</td>\n",
       "      <td>AAL</td>\n",
       "      <td>SCEL</td>\n",
       "      <td>KMIA</td>\n",
       "      <td>AAL</td>\n",
       "      <td>Domingo</td>\n",
       "      <td>I</td>\n",
       "      <td>American Airlines</td>\n",
       "      <td>Santiago</td>\n",
       "      <td>Miami</td>\n",
       "    </tr>\n",
       "    <tr>\n",
       "      <th>1</th>\n",
       "      <td>SCEL</td>\n",
       "      <td>KMIA</td>\n",
       "      <td>AAL</td>\n",
       "      <td>SCEL</td>\n",
       "      <td>KMIA</td>\n",
       "      <td>AAL</td>\n",
       "      <td>Lunes</td>\n",
       "      <td>I</td>\n",
       "      <td>American Airlines</td>\n",
       "      <td>Santiago</td>\n",
       "      <td>Miami</td>\n",
       "    </tr>\n",
       "    <tr>\n",
       "      <th>2</th>\n",
       "      <td>SCEL</td>\n",
       "      <td>KMIA</td>\n",
       "      <td>AAL</td>\n",
       "      <td>SCEL</td>\n",
       "      <td>KMIA</td>\n",
       "      <td>AAL</td>\n",
       "      <td>Martes</td>\n",
       "      <td>I</td>\n",
       "      <td>American Airlines</td>\n",
       "      <td>Santiago</td>\n",
       "      <td>Miami</td>\n",
       "    </tr>\n",
       "    <tr>\n",
       "      <th>3</th>\n",
       "      <td>SCEL</td>\n",
       "      <td>KMIA</td>\n",
       "      <td>AAL</td>\n",
       "      <td>SCEL</td>\n",
       "      <td>KMIA</td>\n",
       "      <td>AAL</td>\n",
       "      <td>Miercoles</td>\n",
       "      <td>I</td>\n",
       "      <td>American Airlines</td>\n",
       "      <td>Santiago</td>\n",
       "      <td>Miami</td>\n",
       "    </tr>\n",
       "    <tr>\n",
       "      <th>4</th>\n",
       "      <td>SCEL</td>\n",
       "      <td>KMIA</td>\n",
       "      <td>AAL</td>\n",
       "      <td>SCEL</td>\n",
       "      <td>KMIA</td>\n",
       "      <td>AAL</td>\n",
       "      <td>Jueves</td>\n",
       "      <td>I</td>\n",
       "      <td>American Airlines</td>\n",
       "      <td>Santiago</td>\n",
       "      <td>Miami</td>\n",
       "    </tr>\n",
       "    <tr>\n",
       "      <th>...</th>\n",
       "      <td>...</td>\n",
       "      <td>...</td>\n",
       "      <td>...</td>\n",
       "      <td>...</td>\n",
       "      <td>...</td>\n",
       "      <td>...</td>\n",
       "      <td>...</td>\n",
       "      <td>...</td>\n",
       "      <td>...</td>\n",
       "      <td>...</td>\n",
       "      <td>...</td>\n",
       "    </tr>\n",
       "    <tr>\n",
       "      <th>68201</th>\n",
       "      <td>SCEL</td>\n",
       "      <td>SPJC</td>\n",
       "      <td>JAT</td>\n",
       "      <td>SCEL</td>\n",
       "      <td>SPJC</td>\n",
       "      <td>JAT</td>\n",
       "      <td>Viernes</td>\n",
       "      <td>I</td>\n",
       "      <td>JetSmart SPA</td>\n",
       "      <td>Santiago</td>\n",
       "      <td>Lima</td>\n",
       "    </tr>\n",
       "    <tr>\n",
       "      <th>68202</th>\n",
       "      <td>SCEL</td>\n",
       "      <td>SPJC</td>\n",
       "      <td>JAT</td>\n",
       "      <td>SCEL</td>\n",
       "      <td>SPJC</td>\n",
       "      <td>JAT</td>\n",
       "      <td>Lunes</td>\n",
       "      <td>I</td>\n",
       "      <td>JetSmart SPA</td>\n",
       "      <td>Santiago</td>\n",
       "      <td>Lima</td>\n",
       "    </tr>\n",
       "    <tr>\n",
       "      <th>68203</th>\n",
       "      <td>SCEL</td>\n",
       "      <td>SPJC</td>\n",
       "      <td>JAT</td>\n",
       "      <td>SCEL</td>\n",
       "      <td>SPJC</td>\n",
       "      <td>JAT</td>\n",
       "      <td>Miercoles</td>\n",
       "      <td>I</td>\n",
       "      <td>JetSmart SPA</td>\n",
       "      <td>Santiago</td>\n",
       "      <td>Lima</td>\n",
       "    </tr>\n",
       "    <tr>\n",
       "      <th>68204</th>\n",
       "      <td>SCEL</td>\n",
       "      <td>SPJC</td>\n",
       "      <td>JAT</td>\n",
       "      <td>SCEL</td>\n",
       "      <td>SPJC</td>\n",
       "      <td>JAT</td>\n",
       "      <td>Viernes</td>\n",
       "      <td>I</td>\n",
       "      <td>JetSmart SPA</td>\n",
       "      <td>Santiago</td>\n",
       "      <td>Lima</td>\n",
       "    </tr>\n",
       "    <tr>\n",
       "      <th>68205</th>\n",
       "      <td>SCEL</td>\n",
       "      <td>SPJC</td>\n",
       "      <td>JAT</td>\n",
       "      <td>SCEL</td>\n",
       "      <td>SPJC</td>\n",
       "      <td>JAT</td>\n",
       "      <td>Domingo</td>\n",
       "      <td>I</td>\n",
       "      <td>JetSmart SPA</td>\n",
       "      <td>Santiago</td>\n",
       "      <td>Lima</td>\n",
       "    </tr>\n",
       "  </tbody>\n",
       "</table>\n",
       "<p>68206 rows × 11 columns</p>\n",
       "</div>"
      ],
      "text/plain": [
       "      Ori_I Des_I Emp_I Ori_O Des_O Emp_O     DIANOM TIPOVUELO  \\\n",
       "0      SCEL  KMIA   AAL  SCEL  KMIA   AAL    Domingo         I   \n",
       "1      SCEL  KMIA   AAL  SCEL  KMIA   AAL      Lunes         I   \n",
       "2      SCEL  KMIA   AAL  SCEL  KMIA   AAL     Martes         I   \n",
       "3      SCEL  KMIA   AAL  SCEL  KMIA   AAL  Miercoles         I   \n",
       "4      SCEL  KMIA   AAL  SCEL  KMIA   AAL     Jueves         I   \n",
       "...     ...   ...   ...   ...   ...   ...        ...       ...   \n",
       "68201  SCEL  SPJC   JAT  SCEL  SPJC   JAT    Viernes         I   \n",
       "68202  SCEL  SPJC   JAT  SCEL  SPJC   JAT      Lunes         I   \n",
       "68203  SCEL  SPJC   JAT  SCEL  SPJC   JAT  Miercoles         I   \n",
       "68204  SCEL  SPJC   JAT  SCEL  SPJC   JAT    Viernes         I   \n",
       "68205  SCEL  SPJC   JAT  SCEL  SPJC   JAT    Domingo         I   \n",
       "\n",
       "                   OPERA  SIGLAORI SIGLADES  \n",
       "0      American Airlines  Santiago    Miami  \n",
       "1      American Airlines  Santiago    Miami  \n",
       "2      American Airlines  Santiago    Miami  \n",
       "3      American Airlines  Santiago    Miami  \n",
       "4      American Airlines  Santiago    Miami  \n",
       "...                  ...       ...      ...  \n",
       "68201       JetSmart SPA  Santiago     Lima  \n",
       "68202       JetSmart SPA  Santiago     Lima  \n",
       "68203       JetSmart SPA  Santiago     Lima  \n",
       "68204       JetSmart SPA  Santiago     Lima  \n",
       "68205       JetSmart SPA  Santiago     Lima  \n",
       "\n",
       "[68206 rows x 11 columns]"
      ]
     },
     "execution_count": 13,
     "metadata": {},
     "output_type": "execute_result"
    }
   ],
   "source": [
    "df.select_dtypes(include='object')"
   ]
  },
  {
   "cell_type": "code",
   "execution_count": 14,
   "id": "b3b3e12d",
   "metadata": {},
   "outputs": [
    {
     "data": {
      "text/html": [
       "<div>\n",
       "<style scoped>\n",
       "    .dataframe tbody tr th:only-of-type {\n",
       "        vertical-align: middle;\n",
       "    }\n",
       "\n",
       "    .dataframe tbody tr th {\n",
       "        vertical-align: top;\n",
       "    }\n",
       "\n",
       "    .dataframe thead th {\n",
       "        text-align: right;\n",
       "    }\n",
       "</style>\n",
       "<table border=\"1\" class=\"dataframe\">\n",
       "  <thead>\n",
       "    <tr style=\"text-align: right;\">\n",
       "      <th></th>\n",
       "      <th>Fecha_I</th>\n",
       "      <th>Fecha_O</th>\n",
       "    </tr>\n",
       "  </thead>\n",
       "  <tbody>\n",
       "    <tr>\n",
       "      <th>0</th>\n",
       "      <td>2017-01-01 23:30:00</td>\n",
       "      <td>2017-01-01 23:33:00</td>\n",
       "    </tr>\n",
       "    <tr>\n",
       "      <th>1</th>\n",
       "      <td>2017-01-02 23:30:00</td>\n",
       "      <td>2017-01-02 23:39:00</td>\n",
       "    </tr>\n",
       "    <tr>\n",
       "      <th>2</th>\n",
       "      <td>2017-01-03 23:30:00</td>\n",
       "      <td>2017-01-03 23:39:00</td>\n",
       "    </tr>\n",
       "    <tr>\n",
       "      <th>3</th>\n",
       "      <td>2017-01-04 23:30:00</td>\n",
       "      <td>2017-01-04 23:33:00</td>\n",
       "    </tr>\n",
       "    <tr>\n",
       "      <th>4</th>\n",
       "      <td>2017-01-05 23:30:00</td>\n",
       "      <td>2017-01-05 23:28:00</td>\n",
       "    </tr>\n",
       "    <tr>\n",
       "      <th>...</th>\n",
       "      <td>...</td>\n",
       "      <td>...</td>\n",
       "    </tr>\n",
       "    <tr>\n",
       "      <th>68201</th>\n",
       "      <td>2017-12-22 14:55:00</td>\n",
       "      <td>2017-12-22 15:41:00</td>\n",
       "    </tr>\n",
       "    <tr>\n",
       "      <th>68202</th>\n",
       "      <td>2017-12-25 14:55:00</td>\n",
       "      <td>2017-12-25 15:11:00</td>\n",
       "    </tr>\n",
       "    <tr>\n",
       "      <th>68203</th>\n",
       "      <td>2017-12-27 14:55:00</td>\n",
       "      <td>2017-12-27 15:35:00</td>\n",
       "    </tr>\n",
       "    <tr>\n",
       "      <th>68204</th>\n",
       "      <td>2017-12-29 14:55:00</td>\n",
       "      <td>2017-12-29 15:08:00</td>\n",
       "    </tr>\n",
       "    <tr>\n",
       "      <th>68205</th>\n",
       "      <td>2017-12-31 14:55:00</td>\n",
       "      <td>2017-12-31 15:04:00</td>\n",
       "    </tr>\n",
       "  </tbody>\n",
       "</table>\n",
       "<p>68206 rows × 2 columns</p>\n",
       "</div>"
      ],
      "text/plain": [
       "                  Fecha_I             Fecha_O\n",
       "0     2017-01-01 23:30:00 2017-01-01 23:33:00\n",
       "1     2017-01-02 23:30:00 2017-01-02 23:39:00\n",
       "2     2017-01-03 23:30:00 2017-01-03 23:39:00\n",
       "3     2017-01-04 23:30:00 2017-01-04 23:33:00\n",
       "4     2017-01-05 23:30:00 2017-01-05 23:28:00\n",
       "...                   ...                 ...\n",
       "68201 2017-12-22 14:55:00 2017-12-22 15:41:00\n",
       "68202 2017-12-25 14:55:00 2017-12-25 15:11:00\n",
       "68203 2017-12-27 14:55:00 2017-12-27 15:35:00\n",
       "68204 2017-12-29 14:55:00 2017-12-29 15:08:00\n",
       "68205 2017-12-31 14:55:00 2017-12-31 15:04:00\n",
       "\n",
       "[68206 rows x 2 columns]"
      ]
     },
     "execution_count": 14,
     "metadata": {},
     "output_type": "execute_result"
    }
   ],
   "source": [
    "df.select_dtypes(include='datetime64[ns]')"
   ]
  },
  {
   "cell_type": "markdown",
   "id": "d38a31a6",
   "metadata": {},
   "source": [
    "## 3. Desafio"
   ]
  },
  {
   "cell_type": "markdown",
   "id": "4e1fd3af",
   "metadata": {},
   "source": [
    "1. ¿Cómo se distribuyen los datos? ¿Qué te llama la atención o cuál es tu conclusión sobre esto?\n",
    "2. Genera las columnas adicionales y luego expórtelas en un archivo synthetic_features.csv :\n",
    "    * temporada_alta : 1 si Fecha-I está entre 15-Dic y 3-Mar, o 15-Jul y 31-Jul, o 11-Sep y 30-Sep, 0 si no.\n",
    "    * dif_min : diferencia en minutos entre Fecha-O y Fecha-I . \n",
    "    * atraso_15 : 1 si dif_min > 15, 0 si no. \n",
    "    * periodo_dia : mañana (entre 5:00 y 11:59), tarde (entre 12:00 y 18:59) y noche (entre 19:00 y 4:59), en base a Fecha-I .\n",
    "3. ¿Cómo se compone la tasa de atraso por destino, aerolínea, mes del año, día de la semana, temporada, tipo de vuelo? ¿Qué variables esperarías que más influyeran en predecir atrasos?\n",
    "4. Entrena uno o varios modelos (usando el/los algoritmo(s) que prefieras) para estimar la probabilidad de atraso de un vuelo. Siéntete libre de generar variables adicionales y/o complementar con variables externas.\n",
    "5. Evalúa tu modelo. ¿Qué performance tiene? ¿Qué métricas usaste para evaluar esa performance y por qué? ¿Por qué elegiste ese algoritmo en particular? ¿Qué variables son las que más influyen en la predicción? ¿Cómo podrías mejorar la performance?"
   ]
  },
  {
   "cell_type": "markdown",
   "id": "fbcfe109",
   "metadata": {},
   "source": [
    "## 3.1. ¿Cómo se distribuyen los datos? ¿Qué te llama la atención o cuál es tu conclusión sobre esto?"
   ]
  },
  {
   "cell_type": "code",
   "execution_count": 15,
   "id": "8b452e61",
   "metadata": {},
   "outputs": [],
   "source": [
    "my_string = '''An Error with the library pandas_profiling was raised, please check the library configuration\n",
    "Please check: \n",
    "https://pypi.org/project/pandas-profiling/ OR\n",
    "https://towardsdatascience.com/pandas-profiling-easy-exploratory-data-analysis-in-python-65d6d0e23650 OR\n",
    "https://github.com/ydataai/pandas-profiling'''\n",
    "\n",
    "try:\n",
    "    import pandas_profiling\n",
    "    \n",
    "except:\n",
    "    print(my_string)"
   ]
  },
  {
   "cell_type": "code",
   "execution_count": 16,
   "id": "e3df558d",
   "metadata": {},
   "outputs": [],
   "source": [
    "profile = df.profile_report()"
   ]
  },
  {
   "cell_type": "code",
   "execution_count": 17,
   "id": "3759a2e7",
   "metadata": {},
   "outputs": [
    {
     "data": {
      "application/vnd.jupyter.widget-view+json": {
       "model_id": "06158622aaa54558b2e5d029e9532cb3",
       "version_major": 2,
       "version_minor": 0
      },
      "text/plain": [
       "Summarize dataset:   0%|          | 0/5 [00:00<?, ?it/s]"
      ]
     },
     "metadata": {},
     "output_type": "display_data"
    },
    {
     "data": {
      "application/vnd.jupyter.widget-view+json": {
       "model_id": "15dfbf747f9e4b4087b6c4af54d89ab6",
       "version_major": 2,
       "version_minor": 0
      },
      "text/plain": [
       "Generate report structure:   0%|          | 0/1 [00:00<?, ?it/s]"
      ]
     },
     "metadata": {},
     "output_type": "display_data"
    },
    {
     "data": {
      "application/vnd.jupyter.widget-view+json": {
       "model_id": "a3e366f9f82f42aabd9c15b9013249ef",
       "version_major": 2,
       "version_minor": 0
      },
      "text/plain": [
       "Render HTML:   0%|          | 0/1 [00:00<?, ?it/s]"
      ]
     },
     "metadata": {},
     "output_type": "display_data"
    },
    {
     "data": {
      "application/vnd.jupyter.widget-view+json": {
       "model_id": "84c191f26035499e89532745b0e3d9e1",
       "version_major": 2,
       "version_minor": 0
      },
      "text/plain": [
       "Export report to file:   0%|          | 0/1 [00:00<?, ?it/s]"
      ]
     },
     "metadata": {},
     "output_type": "display_data"
    }
   ],
   "source": [
    "profile.to_file(\"EDA_preliminar.html\")"
   ]
  },
  {
   "cell_type": "markdown",
   "id": "3ba9c0de",
   "metadata": {},
   "source": [
    "## 3.2 Genera las columnas adicionales y luego expórtelas en un archivo synthetic_features.csv\n",
    "   * temporada_alta : 1 si Fecha-I está entre 15-Dic y 3-Mar, o 15-Jul y 31-Jul, o 11-Sep y 30-Sep, 0 si no.\n",
    "   * dif_min : diferencia en minutos entre Fecha-O y Fecha-I . \n",
    "   * atraso_15 : 1 si dif_min > 15, 0 si no. \n",
    "   * periodo_dia : mañana (entre 5:00 y 11:59), tarde (entre 12:00 y 18:59) y noche (entre 19:00 y 4:59), en base a Fecha-I ."
   ]
  },
  {
   "cell_type": "markdown",
   "id": "8a8ab23b",
   "metadata": {},
   "source": [
    "### 3.2.1 temporada_alta : 1 si Fecha-I está entre 15-Dic y 3-Mar, o 15-Jul y 31-Jul, o 11-Sep y 30-Sep, 0 si no."
   ]
  },
  {
   "cell_type": "code",
   "execution_count": 19,
   "id": "e11a7807",
   "metadata": {},
   "outputs": [
    {
     "data": {
      "text/plain": [
       "0        2017-01-01\n",
       "1        2017-01-02\n",
       "2        2017-01-03\n",
       "3        2017-01-04\n",
       "4        2017-01-05\n",
       "            ...    \n",
       "68201    2017-12-22\n",
       "68202    2017-12-25\n",
       "68203    2017-12-27\n",
       "68204    2017-12-29\n",
       "68205    2017-12-31\n",
       "Name: Fecha_I, Length: 68206, dtype: object"
      ]
     },
     "execution_count": 19,
     "metadata": {},
     "output_type": "execute_result"
    }
   ],
   "source": [
    "df.Fecha_I.dt.date"
   ]
  },
  {
   "cell_type": "code",
   "execution_count": 57,
   "id": "7c96075f",
   "metadata": {},
   "outputs": [
    {
     "data": {
      "text/plain": [
       "2017    68206\n",
       "Name: Fecha_I, dtype: int64"
      ]
     },
     "execution_count": 57,
     "metadata": {},
     "output_type": "execute_result"
    }
   ],
   "source": [
    "df.Fecha_I.dt.year.value_counts() #solo valores de 2017, por lo tanto, los intervalos solo cubriran ese anho"
   ]
  },
  {
   "cell_type": "code",
   "execution_count": 47,
   "id": "4ee6aba3",
   "metadata": {},
   "outputs": [
    {
     "name": "stderr",
     "output_type": "stream",
     "text": [
      "/Users/jppalmab/opt/anaconda3/lib/python3.9/site-packages/pandas/core/arraylike.py:60: UserWarning: Parsing '15/12/2017' in DD/MM/YYYY format. Provide format or specify infer_datetime_format=True for consistent parsing.\n",
      "  return self._cmp_method(other, operator.ge)\n",
      "/var/folders/mw/k879zy5s2zqb1wgxjyzffkb00000gn/T/ipykernel_56444/3939539400.py:10: SettingWithCopyWarning: \n",
      "A value is trying to be set on a copy of a slice from a DataFrame\n",
      "\n",
      "See the caveats in the documentation: https://pandas.pydata.org/pandas-docs/stable/user_guide/indexing.html#returning-a-view-versus-a-copy\n",
      "  df['temporada_alta'][((df['Fecha_I'] >= '1/1/2017') & (df['Fecha_I'] <= '3/3/2017 23:59:59')) |\n"
     ]
    }
   ],
   "source": [
    "df['temporada_alta']= 0\n",
    "\n",
    "df['temporada_alta'][((df['Fecha_I'] >= '1/1/2017') & (df['Fecha_I'] <= '3/3/2017 23:59:59')) |\n",
    "                    ((df['Fecha_I'] >= '15/7/2017') & (df['Fecha_I'] <= '31/7/2017 23:59:59')) | \n",
    "                    ((df['Fecha_I'] >= '11/9/2017') & (df['Fecha_I'] <= '30/9/2017 23:59:59')) | \n",
    "                    ((df['Fecha_I'] >= '15/12/2017') & (df['Fecha_I'] <= '31/12/2017 23:59:59'))] = 1"
   ]
  },
  {
   "cell_type": "code",
   "execution_count": 48,
   "id": "137fb6be",
   "metadata": {},
   "outputs": [
    {
     "data": {
      "text/plain": [
       "0    49201\n",
       "1    19005\n",
       "Name: temporada_alta, dtype: int64"
      ]
     },
     "execution_count": 48,
     "metadata": {},
     "output_type": "execute_result"
    }
   ],
   "source": [
    "df.temporada_alta.value_counts()\n",
    "#df.head()\n",
    "#df.tail()"
   ]
  },
  {
   "cell_type": "code",
   "execution_count": 56,
   "id": "a1ba6875",
   "metadata": {},
   "outputs": [],
   "source": [
    "#Query para checkiar que los intervalos quedasen bien definidos especialmente por la hora.\n",
    "\n",
    "#df.query(\"Fecha_I >= '2017-01-01' and Fecha_I <= '2017-03-03'\")\n",
    "#df.query(\"Fecha_I >= '2017-03-04' and Fecha_I <= '2017-03-14'\")\n",
    "#df.query(\"Fecha_I >= '2017-07-15' and Fecha_I <= '2017-07-31'\")\n",
    "#df.query(\"Fecha_I >= '2017-08-01' and Fecha_I <= '2017-09-10'\")\n",
    "#df.query(\"Fecha_I >= '2017-09-11' and Fecha_I <= '2017-09-30'\")\n",
    "#df.query(\"Fecha_I >= '2017-10-01' and Fecha_I <= '2017-12-14'\")\n",
    "#df.query(\"Fecha_I >= '2017-12-15' and Fecha_I <= '2017-12-31'\")"
   ]
  },
  {
   "cell_type": "markdown",
   "id": "969c09ab",
   "metadata": {},
   "source": [
    "### 3.2.2 dif_min : diferencia en minutos entre Fecha-O y Fecha-I ."
   ]
  },
  {
   "cell_type": "code",
   "execution_count": 58,
   "id": "e2153dc4",
   "metadata": {},
   "outputs": [],
   "source": [
    "df['dif_min'] = df.Fecha_O - df.Fecha_I\n",
    "df['dif_min']=df['dif_min'].astype('timedelta64[m]')"
   ]
  },
  {
   "cell_type": "code",
   "execution_count": 59,
   "id": "cac17df9",
   "metadata": {},
   "outputs": [
    {
     "data": {
      "image/png": "[encoded data removed]",
      "text/plain": [
       "<Figure size 576x396 with 1 Axes>"
      ]
     },
     "metadata": {},
     "output_type": "display_data"
    }
   ],
   "source": [
    "plt.hist(df.dif_min)\n",
    "plt.show()"
   ]
  },
  {
   "cell_type": "markdown",
   "id": "5baa9c31",
   "metadata": {},
   "source": [
    "### 3.2.3 atraso_15 : 1 si dif_min > 15, 0 si no."
   ]
  },
  {
   "cell_type": "code",
   "execution_count": 73,
   "id": "cdbea29f",
   "metadata": {},
   "outputs": [],
   "source": [
    "df['atraso_15'] = df['dif_min'] > 15\n",
    "df['atraso_15'] = df['atraso_15'].astype('int')"
   ]
  },
  {
   "cell_type": "markdown",
   "id": "77ce486c",
   "metadata": {},
   "source": [
    "### 3.2.3 periodo_dia : mañana (entre 5:00 y 11:59), tarde (entre 12:00 y 18:59) y noche (entre 19:00 y 4:59), en base a Fecha-I ."
   ]
  },
  {
   "cell_type": "code",
   "execution_count": 76,
   "id": "5b8b1d67",
   "metadata": {},
   "outputs": [],
   "source": [
    "# define bins and labels\n",
    "bins = ['00:00:00','04:59:59', '11:59:59', '18:59:50', '23:59:50']\n",
    "labels = ['noche', 'mañana', 'tarde', 'noche']\n",
    "\n",
    "# convert to timedelta\n",
    "s = pd.to_timedelta(pd.to_datetime(df['Fecha_I']).dt.time.astype(str))\n",
    "df['periodo_dia'] = pd.cut(s, bins=pd.to_timedelta(bins), labels=labels, ordered=False)"
   ]
  },
  {
   "cell_type": "code",
   "execution_count": 91,
   "id": "83576c4c",
   "metadata": {},
   "outputs": [],
   "source": [
    "df['periodo_dia']=df['periodo_dia'].astype('object')"
   ]
  },
  {
   "cell_type": "markdown",
   "id": "84d18cea",
   "metadata": {},
   "source": [
    "### 3.2.4 Export the synthetic features to new data frame"
   ]
  },
  {
   "cell_type": "code",
   "execution_count": 102,
   "id": "ee1f6bf9",
   "metadata": {},
   "outputs": [],
   "source": [
    "#df.dtypes"
   ]
  },
  {
   "cell_type": "code",
   "execution_count": 93,
   "id": "c44d892b",
   "metadata": {},
   "outputs": [],
   "source": [
    "header = [\"temporada_alta\", \"dif_min\", \"atraso_15\", \"periodo_dia\"]\n",
    "\n",
    "df.to_csv('synthetic_features.csv', columns = header)"
   ]
  },
  {
   "cell_type": "markdown",
   "id": "0d475c2c",
   "metadata": {},
   "source": [
    "## 3.3 ¿Cómo se compone la tasa de atraso por destino, aerolínea, mes del año, día de la semana, temporada, tipo de vuelo? ¿Qué variables esperarías que más influyeran en predecir atrasos?"
   ]
  },
  {
   "cell_type": "markdown",
   "id": "a917f5e8",
   "metadata": {},
   "source": [
    ">Fecha-I : Fecha y hora programada del vuelo.<br> \n",
    "Vlo-I : Número de vuelo programado. <br> \n",
    "Ori-I : Código de ciudad de origen programado. <br> \n",
    "Des-I : Código de ciudad de destino programado. <br> \n",
    "Emp-I : Código aerolínea de vuelo programado. <br> \n",
    "Fecha-O : Fecha y hora de operación del vuelo. <br> \n",
    "Vlo-O : Número de vuelo de operación del vuelo.<br> \n",
    "Ori-O : Código de ciudad de origen de operación.<br> \n",
    "Des-O : Código de ciudad de destino de operación.<br> \n",
    "Emp-O : Código aerolínea de vuelo operado.<br> \n",
    "DIA : Día del mes de operación del vuelo.<br> \n",
    "MES : Número de mes de operación del vuelo.<br> \n",
    "AÑO : Año de operación del vuelo.<br> \n",
    "DIANOM : Día de la semana de operación del vuelo.<br> \n",
    "TIPOVUELO : Tipo de vuelo, I =Internacional, N =Nacional.<br> \n",
    "OPERA : Nombre de aerolínea que opera.<br> \n",
    "SIGLAORI : Nombre ciudad origen.<br> \n",
    "SIGLADES : Nombre ciudad destino.<br>\n",
    "temporada_alta: dicotomico identificador de temporada alta.<br>\n",
    "dif_min: diferencia en minutos entre la hora de vuelo y la opera de operacion.<br>\n",
    "atraso_15: identificador de vuelos que se atrasaron en mas de 15 minutos.<br>\n",
    "priodo_dia: identificador de si el vuelo fue de mañana, tarde o noche."
   ]
  },
  {
   "cell_type": "code",
   "execution_count": 114,
   "id": "3f660cdb",
   "metadata": {},
   "outputs": [],
   "source": [
    "#df.dtypes"
   ]
  },
  {
   "cell_type": "markdown",
   "id": "115a0ec7",
   "metadata": {},
   "source": [
    "### por Destino"
   ]
  },
  {
   "cell_type": "code",
   "execution_count": 113,
   "id": "91d9616d",
   "metadata": {},
   "outputs": [
    {
     "data": {
      "text/plain": [
       "<AxesSubplot:xlabel='SIGLADES'>"
      ]
     },
     "execution_count": 113,
     "metadata": {},
     "output_type": "execute_result"
    },
    {
     "data": {
      "image/png": "[encoded data removed]",
      "text/plain": [
       "<Figure size 576x396 with 1 Axes>"
      ]
     },
     "metadata": {},
     "output_type": "display_data"
    }
   ],
   "source": [
    "pd.crosstab(df.SIGLADES, df.atraso_15).plot.bar(rot=90)"
   ]
  },
  {
   "cell_type": "markdown",
   "id": "27bdf49e",
   "metadata": {},
   "source": [
    "### por Aerolinea"
   ]
  },
  {
   "cell_type": "code",
   "execution_count": 112,
   "id": "105621f6",
   "metadata": {},
   "outputs": [
    {
     "data": {
      "text/plain": [
       "<AxesSubplot:xlabel='OPERA'>"
      ]
     },
     "execution_count": 112,
     "metadata": {},
     "output_type": "execute_result"
    },
    {
     "data": {
      "image/png": "[encoded data removed]",
      "text/plain": [
       "<Figure size 576x396 with 1 Axes>"
      ]
     },
     "metadata": {},
     "output_type": "display_data"
    }
   ],
   "source": [
    "pd.crosstab(df.OPERA, df.atraso_15).plot.bar(rot=90)"
   ]
  },
  {
   "cell_type": "markdown",
   "id": "88af9e23",
   "metadata": {},
   "source": [
    "### por Mes del Año"
   ]
  },
  {
   "cell_type": "code",
   "execution_count": 110,
   "id": "041197fc",
   "metadata": {},
   "outputs": [
    {
     "data": {
      "text/plain": [
       "<AxesSubplot:xlabel='MES'>"
      ]
     },
     "execution_count": 110,
     "metadata": {},
     "output_type": "execute_result"
    },
    {
     "data": {
      "image/png": "[encoded data removed]",
      "text/plain": [
       "<Figure size 576x396 with 1 Axes>"
      ]
     },
     "metadata": {},
     "output_type": "display_data"
    }
   ],
   "source": [
    "pd.crosstab(df.MES, df.atraso_15).plot.bar(rot=0)"
   ]
  },
  {
   "cell_type": "markdown",
   "id": "ad920dc0",
   "metadata": {},
   "source": [
    "### por Dia de la semana"
   ]
  },
  {
   "cell_type": "code",
   "execution_count": 119,
   "id": "b0426e13",
   "metadata": {},
   "outputs": [
    {
     "data": {
      "text/plain": [
       "<AxesSubplot:xlabel='DIANOM'>"
      ]
     },
     "execution_count": 119,
     "metadata": {},
     "output_type": "execute_result"
    },
    {
     "data": {
      "image/png": "[encoded data removed]",
      "text/plain": [
       "<Figure size 576x396 with 1 Axes>"
      ]
     },
     "metadata": {},
     "output_type": "display_data"
    }
   ],
   "source": [
    "pd.crosstab(df.DIANOM, df.atraso_15).plot.bar(rot=0)"
   ]
  },
  {
   "cell_type": "code",
   "execution_count": 118,
   "id": "abfcd32a",
   "metadata": {},
   "outputs": [
    {
     "data": {
      "text/plain": [
       "<AxesSubplot:xlabel='DIA'>"
      ]
     },
     "execution_count": 118,
     "metadata": {},
     "output_type": "execute_result"
    },
    {
     "data": {
      "image/png": "[encoded data removed]",
      "text/plain": [
       "<Figure size 576x396 with 1 Axes>"
      ]
     },
     "metadata": {},
     "output_type": "display_data"
    }
   ],
   "source": [
    "pd.crosstab(df.DIA, df.atraso_15).plot.bar(rot=0)"
   ]
  },
  {
   "cell_type": "markdown",
   "id": "da084962",
   "metadata": {},
   "source": [
    "### por Tipo de Vuelo"
   ]
  },
  {
   "cell_type": "code",
   "execution_count": 116,
   "id": "4af5b435",
   "metadata": {
    "scrolled": true
   },
   "outputs": [
    {
     "data": {
      "text/plain": [
       "<AxesSubplot:xlabel='TIPOVUELO'>"
      ]
     },
     "execution_count": 116,
     "metadata": {},
     "output_type": "execute_result"
    },
    {
     "data": {
      "image/png": "[encoded data removed]",
      "text/plain": [
       "<Figure size 576x396 with 1 Axes>"
      ]
     },
     "metadata": {},
     "output_type": "display_data"
    }
   ],
   "source": [
    "pd.crosstab(df.TIPOVUELO, df.atraso_15).plot.bar(rot=0)"
   ]
  },
  {
   "cell_type": "code",
   "execution_count": 123,
   "id": "321e49b1",
   "metadata": {
    "scrolled": true
   },
   "outputs": [
    {
     "data": {
      "text/plain": [
       "<AxesSubplot:xlabel='temporada_alta'>"
      ]
     },
     "execution_count": 123,
     "metadata": {},
     "output_type": "execute_result"
    },
    {
     "data": {
      "image/png": "[encoded data removed]",
      "text/plain": [
       "<Figure size 576x396 with 1 Axes>"
      ]
     },
     "metadata": {},
     "output_type": "display_data"
    }
   ],
   "source": [
    "pd.crosstab(df.temporada_alta, df.atraso_15).plot.bar(rot=0)"
   ]
  },
  {
   "cell_type": "markdown",
   "id": "5795896c",
   "metadata": {},
   "source": [
    "## 3.4 Entrena uno o varios modelos (usando el/los algoritmo(s) que prefieras) para estimar la probabilidad de atraso de un vuelo. Siéntete libre de generar variables adicionales y/o complementar con variables externas."
   ]
  },
  {
   "cell_type": "markdown",
   "id": "0d920eeb",
   "metadata": {},
   "source": [
    "## 3.5 Evalúa tu modelo. ¿Qué performance tiene? ¿Qué métricas usaste para evaluar esa performance y por qué? ¿Por qué elegiste ese algoritmo en particular? ¿Qué variables son las que más influyen en la predicción? ¿Cómo podrías mejorar la performance?"
   ]
  },
  {
   "cell_type": "code",
   "execution_count": null,
   "id": "990bb6d2",
   "metadata": {},
   "outputs": [],
   "source": []
  },
  {
   "cell_type": "markdown",
   "id": "38019e07",
   "metadata": {},
   "source": [
    "# References\n"
   ]
  },
  {
   "cell_type": "markdown",
   "id": "bda79c73",
   "metadata": {},
   "source": [
    "https://stackoverflow.com/questions/16139306/determine-season-given-timestamp-in-python-using-datetime"
   ]
  }
 ],
 "metadata": {
  "kernelspec": {
   "display_name": "Python 3 (ipykernel)",
   "language": "python",
   "name": "python3"
  },
  "language_info": {
   "codemirror_mode": {
    "name": "ipython",
    "version": 3
   },
   "file_extension": ".py",
   "mimetype": "text/x-python",
   "name": "python",
   "nbconvert_exporter": "python",
   "pygments_lexer": "ipython3",
   "version": "3.9.12"
  }
 },
 "nbformat": 4,
 "nbformat_minor": 5
}
